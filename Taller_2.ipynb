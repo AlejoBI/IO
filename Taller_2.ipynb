{
  "nbformat": 4,
  "nbformat_minor": 0,
  "metadata": {
    "colab": {
      "provenance": [],
      "authorship_tag": "ABX9TyO8cqqrZEkpW7M9a7GwjwN+",
      "include_colab_link": true
    },
    "kernelspec": {
      "name": "python3",
      "display_name": "Python 3"
    },
    "language_info": {
      "name": "python"
    }
  },
  "cells": [
    {
      "cell_type": "markdown",
      "metadata": {
        "id": "view-in-github",
        "colab_type": "text"
      },
      "source": [
        "<a href=\"https://colab.research.google.com/github/AlejoBI/IO/blob/main/Taller_2.ipynb\" target=\"_parent\"><img src=\"https://colab.research.google.com/assets/colab-badge.svg\" alt=\"Open In Colab\"/></a>"
      ]
    },
    {
      "cell_type": "code",
      "execution_count": 1,
      "metadata": {
        "colab": {
          "base_uri": "https://localhost:8080/"
        },
        "id": "7cSZ0MHVGDNH",
        "outputId": "e455eb65-f433-4306-b1d7-5ee3d50ee2a8"
      },
      "outputs": [
        {
          "output_type": "stream",
          "name": "stdout",
          "text": [
            "Collecting ortools\n",
            "  Downloading ortools-9.11.4210-cp310-cp310-manylinux_2_17_x86_64.manylinux2014_x86_64.whl.metadata (3.0 kB)\n",
            "Collecting absl-py>=2.0.0 (from ortools)\n",
            "  Downloading absl_py-2.1.0-py3-none-any.whl.metadata (2.3 kB)\n",
            "Requirement already satisfied: numpy>=1.13.3 in /usr/local/lib/python3.10/dist-packages (from ortools) (1.26.4)\n",
            "Requirement already satisfied: pandas>=2.0.0 in /usr/local/lib/python3.10/dist-packages (from ortools) (2.1.4)\n",
            "Collecting protobuf<5.27,>=5.26.1 (from ortools)\n",
            "  Downloading protobuf-5.26.1-cp37-abi3-manylinux2014_x86_64.whl.metadata (592 bytes)\n",
            "Requirement already satisfied: immutabledict>=3.0.0 in /usr/local/lib/python3.10/dist-packages (from ortools) (4.2.0)\n",
            "Requirement already satisfied: python-dateutil>=2.8.2 in /usr/local/lib/python3.10/dist-packages (from pandas>=2.0.0->ortools) (2.8.2)\n",
            "Requirement already satisfied: pytz>=2020.1 in /usr/local/lib/python3.10/dist-packages (from pandas>=2.0.0->ortools) (2024.2)\n",
            "Requirement already satisfied: tzdata>=2022.1 in /usr/local/lib/python3.10/dist-packages (from pandas>=2.0.0->ortools) (2024.1)\n",
            "Requirement already satisfied: six>=1.5 in /usr/local/lib/python3.10/dist-packages (from python-dateutil>=2.8.2->pandas>=2.0.0->ortools) (1.16.0)\n",
            "Downloading ortools-9.11.4210-cp310-cp310-manylinux_2_17_x86_64.manylinux2014_x86_64.whl (28.1 MB)\n",
            "\u001b[2K   \u001b[90m━━━━━━━━━━━━━━━━━━━━━━━━━━━━━━━━━━━━━━━━\u001b[0m \u001b[32m28.1/28.1 MB\u001b[0m \u001b[31m47.9 MB/s\u001b[0m eta \u001b[36m0:00:00\u001b[0m\n",
            "\u001b[?25hDownloading absl_py-2.1.0-py3-none-any.whl (133 kB)\n",
            "\u001b[2K   \u001b[90m━━━━━━━━━━━━━━━━━━━━━━━━━━━━━━━━━━━━━━━━\u001b[0m \u001b[32m133.7/133.7 kB\u001b[0m \u001b[31m9.4 MB/s\u001b[0m eta \u001b[36m0:00:00\u001b[0m\n",
            "\u001b[?25hDownloading protobuf-5.26.1-cp37-abi3-manylinux2014_x86_64.whl (302 kB)\n",
            "\u001b[2K   \u001b[90m━━━━━━━━━━━━━━━━━━━━━━━━━━━━━━━━━━━━━━━━\u001b[0m \u001b[32m302.8/302.8 kB\u001b[0m \u001b[31m20.2 MB/s\u001b[0m eta \u001b[36m0:00:00\u001b[0m\n",
            "\u001b[?25hInstalling collected packages: protobuf, absl-py, ortools\n",
            "  Attempting uninstall: protobuf\n",
            "    Found existing installation: protobuf 3.20.3\n",
            "    Uninstalling protobuf-3.20.3:\n",
            "      Successfully uninstalled protobuf-3.20.3\n",
            "  Attempting uninstall: absl-py\n",
            "    Found existing installation: absl-py 1.4.0\n",
            "    Uninstalling absl-py-1.4.0:\n",
            "      Successfully uninstalled absl-py-1.4.0\n",
            "\u001b[31mERROR: pip's dependency resolver does not currently take into account all the packages that are installed. This behaviour is the source of the following dependency conflicts.\n",
            "cudf-cu12 24.4.1 requires protobuf<5,>=3.20, but you have protobuf 5.26.1 which is incompatible.\n",
            "google-ai-generativelanguage 0.6.6 requires protobuf!=3.20.0,!=3.20.1,!=4.21.0,!=4.21.1,!=4.21.2,!=4.21.3,!=4.21.4,!=4.21.5,<5.0.0dev,>=3.19.5, but you have protobuf 5.26.1 which is incompatible.\n",
            "google-cloud-datastore 2.19.0 requires protobuf!=3.20.0,!=3.20.1,!=4.21.0,!=4.21.1,!=4.21.2,!=4.21.3,!=4.21.4,!=4.21.5,<5.0.0dev,>=3.19.5, but you have protobuf 5.26.1 which is incompatible.\n",
            "google-cloud-firestore 2.16.1 requires protobuf!=3.20.0,!=3.20.1,!=4.21.0,!=4.21.1,!=4.21.2,!=4.21.3,!=4.21.4,!=4.21.5,<5.0.0dev,>=3.19.5, but you have protobuf 5.26.1 which is incompatible.\n",
            "tensorboard 2.17.0 requires protobuf!=4.24.0,<5.0.0,>=3.19.6, but you have protobuf 5.26.1 which is incompatible.\n",
            "tensorflow 2.17.0 requires protobuf!=4.21.0,!=4.21.1,!=4.21.2,!=4.21.3,!=4.21.4,!=4.21.5,<5.0.0dev,>=3.20.3, but you have protobuf 5.26.1 which is incompatible.\n",
            "tensorflow-metadata 1.15.0 requires protobuf<4.21,>=3.20.3; python_version < \"3.11\", but you have protobuf 5.26.1 which is incompatible.\u001b[0m\u001b[31m\n",
            "\u001b[0mSuccessfully installed absl-py-2.1.0 ortools-9.11.4210 protobuf-5.26.1\n"
          ]
        }
      ],
      "source": [
        "#Instalamos la librería / software de optimización de Google\n",
        "!pip install ortools"
      ]
    },
    {
      "cell_type": "code",
      "source": [
        "#Importar el módulo de PL de G-OR\n",
        "from ortools.linear_solver import pywraplp\n",
        "\n",
        "#Elegir el solucionador\n",
        "# param [\"GLOP solver para modelos continuos\", \"SCIP solver para modelos de programacion continua, entrea y mixta\"]\n",
        "solucionador =  'SCIP'\n",
        "solver = pywraplp.Solver.CreateSolver(solucionador)"
      ],
      "metadata": {
        "id": "1Cc7KE89HzPY"
      },
      "execution_count": 2,
      "outputs": []
    },
    {
      "cell_type": "code",
      "source": [
        "peso_max = 15\n",
        "volumen_max = 15000\n",
        "peso = [5, 7, 5, 2, 4, 6]\n",
        "volumen = [4500, 4500, 14000, 1000, 2250, 5000]\n",
        "\n",
        "items = [0, 1, 2, 3, 4, 5]\n",
        "vehiculos = [0, 1, 2, 3, 4, 5]\n",
        "\n",
        "#NumVar para continua\n",
        "#IntVar para entera\n",
        "#BoolVar para boolean\n",
        "\n",
        "x = {}\n",
        "\n",
        "for i in items:\n",
        "  for j in vehiculos:\n",
        "    x[i, j] = solver.IntVar(0, 1, '')\n",
        "\n",
        "y = {}\n",
        "\n",
        "for j in vehiculos:\n",
        "  y[j] = solver.IntVar(0, 1, '')\n",
        "\n",
        "#Restricciones\n",
        "for i in items:\n",
        "  solver.Add(sum(x[i, j] for j in vehiculos) == 1)\n",
        "\n",
        "for j in vehiculos:\n",
        "  solver.Add(sum(x[i, j] * peso[i] for i in items) <= peso_max * y[j])\n",
        "  solver.Add(sum(x[i, j] * volumen[i] for i in items) <= volumen_max * y[j])\n",
        "\n",
        "#Funcion objetivo (Maximize o Minimize)\n",
        "solver.Minimize(sum(y[j] for j in vehiculos))\n",
        "\n",
        "#Invocando solución\n",
        "status = solver.Solve()\n",
        "\n",
        "for i in items:\n",
        "  for j in vehiculos:\n",
        "    if x[i, j].solution_value() == 1: #Invoca las variable sy las compara\n",
        "      print(f\"La carga {i} se transporta en el vehiculo {j}\")\n",
        "\n",
        "print(f\"Numero minimo de vehiculos: {solver.Objective().Value()}\") #Solucion\n"
      ],
      "metadata": {
        "colab": {
          "base_uri": "https://localhost:8080/"
        },
        "id": "XvS3EtL-I-6W",
        "outputId": "120038d0-d01f-442f-80b1-a9760fbe29df"
      },
      "execution_count": 19,
      "outputs": [
        {
          "output_type": "stream",
          "name": "stdout",
          "text": [
            "La carga 0 se transporta en el vehiculo 2\n",
            "La carga 1 se transporta en el vehiculo 2\n",
            "La carga 2 se transporta en el vehiculo 1\n",
            "La carga 3 se transporta en el vehiculo 0\n",
            "La carga 4 se transporta en el vehiculo 0\n",
            "La carga 5 se transporta en el vehiculo 0\n",
            "Numero minimo de vehiculos: 3.0\n"
          ]
        }
      ]
    },
    {
      "cell_type": "code",
      "source": [
        "for j in vehiculos:\n",
        "  peso_total_vehiculo = sum(x[i, j].solution_value() * peso[i] for i in items)\n",
        "  volumen_total_vehiculo = sum(x[i, j].solution_value() * volumen[i] for i in items)\n",
        "  if y[j].solution_value() == 1:\n",
        "    print(f\"El vehiculo {j} tiene un peso total de {peso_total_vehiculo} y un volumen total de {volumen_total_vehiculo}\")\n"
      ],
      "metadata": {
        "colab": {
          "base_uri": "https://localhost:8080/"
        },
        "id": "wAjhWY3SPFmg",
        "outputId": "f91fea6f-b5b8-4e65-e854-8bbeb56136d2"
      },
      "execution_count": 20,
      "outputs": [
        {
          "output_type": "stream",
          "name": "stdout",
          "text": [
            "El vehiculo 0 tiene un peso total de 12.0 y un volumen total de 8250.0\n",
            "El vehiculo 1 tiene un peso total de 5.0 y un volumen total de 14000.0\n",
            "El vehiculo 2 tiene un peso total de 12.0 y un volumen total de 9000.0\n"
          ]
        }
      ]
    }
  ]
}