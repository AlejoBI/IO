{
  "nbformat": 4,
  "nbformat_minor": 0,
  "metadata": {
    "colab": {
      "provenance": [],
      "authorship_tag": "ABX9TyP8hTXHMtGS2f55MPZwch6U",
      "include_colab_link": true
    },
    "kernelspec": {
      "name": "python3",
      "display_name": "Python 3"
    },
    "language_info": {
      "name": "python"
    }
  },
  "cells": [
    {
      "cell_type": "markdown",
      "metadata": {
        "id": "view-in-github",
        "colab_type": "text"
      },
      "source": [
        "<a href=\"https://colab.research.google.com/github/AlejoBI/IO/blob/main/Repaso1.ipynb\" target=\"_parent\"><img src=\"https://colab.research.google.com/assets/colab-badge.svg\" alt=\"Open In Colab\"/></a>"
      ]
    },
    {
      "cell_type": "code",
      "execution_count": 1,
      "metadata": {
        "colab": {
          "base_uri": "https://localhost:8080/"
        },
        "id": "OWTB7Bcn9L5y",
        "outputId": "139accd1-5dc7-4919-c0ab-b564c968aa17"
      },
      "outputs": [
        {
          "output_type": "stream",
          "name": "stdout",
          "text": [
            "Collecting ortools\n",
            "  Downloading ortools-9.11.4210-cp310-cp310-manylinux_2_17_x86_64.manylinux2014_x86_64.whl.metadata (3.0 kB)\n",
            "Collecting absl-py>=2.0.0 (from ortools)\n",
            "  Downloading absl_py-2.1.0-py3-none-any.whl.metadata (2.3 kB)\n",
            "Requirement already satisfied: numpy>=1.13.3 in /usr/local/lib/python3.10/dist-packages (from ortools) (1.26.4)\n",
            "Requirement already satisfied: pandas>=2.0.0 in /usr/local/lib/python3.10/dist-packages (from ortools) (2.2.2)\n",
            "Collecting protobuf<5.27,>=5.26.1 (from ortools)\n",
            "  Downloading protobuf-5.26.1-cp37-abi3-manylinux2014_x86_64.whl.metadata (592 bytes)\n",
            "Requirement already satisfied: immutabledict>=3.0.0 in /usr/local/lib/python3.10/dist-packages (from ortools) (4.2.0)\n",
            "Requirement already satisfied: python-dateutil>=2.8.2 in /usr/local/lib/python3.10/dist-packages (from pandas>=2.0.0->ortools) (2.8.2)\n",
            "Requirement already satisfied: pytz>=2020.1 in /usr/local/lib/python3.10/dist-packages (from pandas>=2.0.0->ortools) (2024.2)\n",
            "Requirement already satisfied: tzdata>=2022.7 in /usr/local/lib/python3.10/dist-packages (from pandas>=2.0.0->ortools) (2024.2)\n",
            "Requirement already satisfied: six>=1.5 in /usr/local/lib/python3.10/dist-packages (from python-dateutil>=2.8.2->pandas>=2.0.0->ortools) (1.16.0)\n",
            "Downloading ortools-9.11.4210-cp310-cp310-manylinux_2_17_x86_64.manylinux2014_x86_64.whl (28.1 MB)\n",
            "\u001b[2K   \u001b[90m━━━━━━━━━━━━━━━━━━━━━━━━━━━━━━━━━━━━━━━━\u001b[0m \u001b[32m28.1/28.1 MB\u001b[0m \u001b[31m44.2 MB/s\u001b[0m eta \u001b[36m0:00:00\u001b[0m\n",
            "\u001b[?25hDownloading absl_py-2.1.0-py3-none-any.whl (133 kB)\n",
            "\u001b[2K   \u001b[90m━━━━━━━━━━━━━━━━━━━━━━━━━━━━━━━━━━━━━━━━\u001b[0m \u001b[32m133.7/133.7 kB\u001b[0m \u001b[31m6.8 MB/s\u001b[0m eta \u001b[36m0:00:00\u001b[0m\n",
            "\u001b[?25hDownloading protobuf-5.26.1-cp37-abi3-manylinux2014_x86_64.whl (302 kB)\n",
            "\u001b[2K   \u001b[90m━━━━━━━━━━━━━━━━━━━━━━━━━━━━━━━━━━━━━━━━\u001b[0m \u001b[32m302.8/302.8 kB\u001b[0m \u001b[31m6.2 MB/s\u001b[0m eta \u001b[36m0:00:00\u001b[0m\n",
            "\u001b[?25hInstalling collected packages: protobuf, absl-py, ortools\n",
            "  Attempting uninstall: protobuf\n",
            "    Found existing installation: protobuf 3.20.3\n",
            "    Uninstalling protobuf-3.20.3:\n",
            "      Successfully uninstalled protobuf-3.20.3\n",
            "  Attempting uninstall: absl-py\n",
            "    Found existing installation: absl-py 1.4.0\n",
            "    Uninstalling absl-py-1.4.0:\n",
            "      Successfully uninstalled absl-py-1.4.0\n",
            "\u001b[31mERROR: pip's dependency resolver does not currently take into account all the packages that are installed. This behaviour is the source of the following dependency conflicts.\n",
            "google-ai-generativelanguage 0.6.6 requires protobuf!=3.20.0,!=3.20.1,!=4.21.0,!=4.21.1,!=4.21.2,!=4.21.3,!=4.21.4,!=4.21.5,<5.0.0dev,>=3.19.5, but you have protobuf 5.26.1 which is incompatible.\n",
            "google-cloud-datastore 2.19.0 requires protobuf!=3.20.0,!=3.20.1,!=4.21.0,!=4.21.1,!=4.21.2,!=4.21.3,!=4.21.4,!=4.21.5,<5.0.0dev,>=3.19.5, but you have protobuf 5.26.1 which is incompatible.\n",
            "google-cloud-firestore 2.16.1 requires protobuf!=3.20.0,!=3.20.1,!=4.21.0,!=4.21.1,!=4.21.2,!=4.21.3,!=4.21.4,!=4.21.5,<5.0.0dev,>=3.19.5, but you have protobuf 5.26.1 which is incompatible.\n",
            "tensorboard 2.17.0 requires protobuf!=4.24.0,<5.0.0,>=3.19.6, but you have protobuf 5.26.1 which is incompatible.\n",
            "tensorflow 2.17.0 requires protobuf!=4.21.0,!=4.21.1,!=4.21.2,!=4.21.3,!=4.21.4,!=4.21.5,<5.0.0dev,>=3.20.3, but you have protobuf 5.26.1 which is incompatible.\n",
            "tensorflow-metadata 1.15.0 requires protobuf<4.21,>=3.20.3; python_version < \"3.11\", but you have protobuf 5.26.1 which is incompatible.\u001b[0m\u001b[31m\n",
            "\u001b[0mSuccessfully installed absl-py-2.1.0 ortools-9.11.4210 protobuf-5.26.1\n"
          ]
        }
      ],
      "source": [
        "!pip install ortools\n",
        "\n",
        "from ortools.linear_solver import pywraplp\n",
        "\n",
        "# Crear el solucionador\n",
        "solucionador = 'SCIP'\n",
        "solver = pywraplp.Solver.CreateSolver(solucionador)"
      ]
    },
    {
      "cell_type": "code",
      "source": [
        "# Variables\n",
        "peso_max = 21.6\n",
        "volumen_max = 33\n",
        "\n",
        "peso = [0.97,1.00,1.13,0.79,0.99,0.52]\n",
        "volumen = [6.79,6.27,7.96,6.56,2.08,2.63]\n",
        "\n",
        "cargas = [0,1,2,3,4,5]\n",
        "vehiculos = [0,1,2,3,4,5]\n",
        "\n",
        "x = {}\n",
        "for c in cargas:\n",
        "  for v in vehiculos:\n",
        "    x[c,v] = solver.IntVar(0,1,'')\n",
        "\n",
        "y = {}\n",
        "for v in vehiculos:\n",
        "  y[v] = solver.IntVar(0,1,'')\n",
        "\n",
        "\n",
        "# r1\n",
        "for c in cargas:\n",
        "  solver.Add(sum(x[c, v] for v in vehiculos) == 1)\n",
        "\n",
        "# r2 y r3\n",
        "for v in vehiculos:\n",
        "  solver.Add(sum(x[c,v] * peso[c] for c in cargas) <= peso_max * y[v])\n",
        "  solver.Add(sum(x[c,v] * volumen[c] for c in cargas) <= volumen_max * y[v])\n",
        "\n",
        "# Zmin\n",
        "solver.Minimize(sum(y[v] for v in vehiculos))\n",
        "\n",
        "\n",
        "status = solver.Solve()\n",
        "\n",
        "if status == pywraplp.Solver.OPTIMAL:\n",
        "  for c in cargas:\n",
        "    for v in vehiculos:\n",
        "      if x[c, v].solution_value() == 1:\n",
        "        print(f\"La carga {c} se transporta en el vehiculo {v}\")\n",
        "\n",
        "  print(f\"Numero minimo de vehiculos: {solver.Objective().Value()}\") #Solucion\n",
        "else:\n",
        "  print('The problem does not have an optimal solution.')\n",
        ""
      ],
      "metadata": {
        "colab": {
          "base_uri": "https://localhost:8080/"
        },
        "id": "AcbFddXH9XOP",
        "outputId": "6ab21cb0-3653-42d3-f460-57b9269c7a83"
      },
      "execution_count": 18,
      "outputs": [
        {
          "output_type": "stream",
          "name": "stdout",
          "text": [
            "La carga 0 se transporta en el vehiculo 0\n",
            "La carga 1 se transporta en el vehiculo 0\n",
            "La carga 2 se transporta en el vehiculo 0\n",
            "La carga 3 se transporta en el vehiculo 0\n",
            "La carga 4 se transporta en el vehiculo 0\n",
            "La carga 5 se transporta en el vehiculo 0\n",
            "Numero minimo de vehiculos: 1.0\n"
          ]
        }
      ]
    },
    {
      "cell_type": "code",
      "source": [
        "for v in vehiculos:\n",
        "  peso_total_vehiculo = sum(x[c, v].solution_value() * peso[c] for c in cargas)\n",
        "  volumen_total_vehiculo = sum(x[c, v].solution_value() * volumen[c] for c in cargas)\n",
        "  if y[v].solution_value() == 1:\n",
        "    print(f\"El vehiculo {v} tiene un peso total de {peso_total_vehiculo} y un volumen total de {volumen_total_vehiculo}\")"
      ],
      "metadata": {
        "colab": {
          "base_uri": "https://localhost:8080/"
        },
        "id": "o7ZlnL4MD32d",
        "outputId": "d3577023-b695-4d11-ffdd-cf6f2a5353d5"
      },
      "execution_count": 19,
      "outputs": [
        {
          "output_type": "stream",
          "name": "stdout",
          "text": [
            "El vehiculo 0 tiene un peso total de 5.4 y un volumen total de 32.29\n"
          ]
        }
      ]
    }
  ]
}