{
  "nbformat": 4,
  "nbformat_minor": 0,
  "metadata": {
    "colab": {
      "provenance": [],
      "include_colab_link": true
    },
    "kernelspec": {
      "name": "python3",
      "display_name": "Python 3"
    },
    "language_info": {
      "name": "python"
    }
  },
  "cells": [
    {
      "cell_type": "markdown",
      "metadata": {
        "id": "view-in-github",
        "colab_type": "text"
      },
      "source": [
        "<a href=\"https://colab.research.google.com/github/AlejoBI/IO/blob/main/QuizHigueraPrueba.ipynb\" target=\"_parent\"><img src=\"https://colab.research.google.com/assets/colab-badge.svg\" alt=\"Open In Colab\"/></a>"
      ]
    },
    {
      "cell_type": "code",
      "execution_count": 7,
      "metadata": {
        "id": "x5xK_uN_GymM",
        "colab": {
          "base_uri": "https://localhost:8080/"
        },
        "outputId": "59ce74b9-6371-48f6-de03-7bffa121ffc1"
      },
      "outputs": [
        {
          "output_type": "stream",
          "name": "stdout",
          "text": [
            "Requirement already satisfied: ortools in /usr/local/lib/python3.10/dist-packages (9.11.4210)\n",
            "Requirement already satisfied: absl-py>=2.0.0 in /usr/local/lib/python3.10/dist-packages (from ortools) (2.1.0)\n",
            "Requirement already satisfied: numpy>=1.13.3 in /usr/local/lib/python3.10/dist-packages (from ortools) (1.26.4)\n",
            "Requirement already satisfied: pandas>=2.0.0 in /usr/local/lib/python3.10/dist-packages (from ortools) (2.1.4)\n",
            "Requirement already satisfied: protobuf<5.27,>=5.26.1 in /usr/local/lib/python3.10/dist-packages (from ortools) (5.26.1)\n",
            "Requirement already satisfied: immutabledict>=3.0.0 in /usr/local/lib/python3.10/dist-packages (from ortools) (4.2.0)\n",
            "Requirement already satisfied: python-dateutil>=2.8.2 in /usr/local/lib/python3.10/dist-packages (from pandas>=2.0.0->ortools) (2.8.2)\n",
            "Requirement already satisfied: pytz>=2020.1 in /usr/local/lib/python3.10/dist-packages (from pandas>=2.0.0->ortools) (2024.2)\n",
            "Requirement already satisfied: tzdata>=2022.1 in /usr/local/lib/python3.10/dist-packages (from pandas>=2.0.0->ortools) (2024.1)\n",
            "Requirement already satisfied: six>=1.5 in /usr/local/lib/python3.10/dist-packages (from python-dateutil>=2.8.2->pandas>=2.0.0->ortools) (1.16.0)\n"
          ]
        }
      ],
      "source": [
        "#Instalamos la librería / software de optimización de Google\n",
        "!pip install ortools"
      ]
    },
    {
      "cell_type": "code",
      "source": [
        "#@title ⚙️ Ejecutar esta celda para elegir el solucionador de PLEyM\n",
        "\n",
        "#Importar el módulo de PL de G-OR\n",
        "from ortools.linear_solver import pywraplp\n",
        "\n",
        "#Elegir el solucionador\n",
        "solucionador =  'SCIP' #@param [\"GLOP\", \"PDLP\", \"SCIP\"]\n",
        "solver = pywraplp.Solver.CreateSolver(solucionador)"
      ],
      "metadata": {
        "id": "webFe3deG9z_",
        "cellView": "form"
      },
      "execution_count": 8,
      "outputs": []
    },
    {
      "cell_type": "code",
      "source": [
        "peso_max= 4500\n",
        "penalizacion= [120,250,250,620,190,90]\n",
        "peso =[1200,1250,1800,2500,1400,900]\n",
        "\n",
        "\n",
        "items=[0,1,2,3,4,5]\n",
        "\n",
        "\n",
        "x = {}\n",
        "\n",
        "for i in items:\n",
        "  x[i] = solver.IntVar(0,1,\"\")\n",
        "\n",
        "#R1\n",
        "for i in items:\n",
        "  solver.Add(sum(x[i]*peso[i] <= peso_max))\n",
        "\n",
        "\n",
        "solver.Minimize(sum((1-x[i])*penalizacion[i]))\n",
        "\n",
        "#Invoque la solución:\n",
        "\n",
        "status= solver.Solve()\n",
        "\n",
        "for i in items:\n",
        "  if x[i].solution_value() == 1:\n",
        "      print(\"La carga \", i, \" Se despacha \", x[i].solution_value())\n",
        "\n",
        "print(\"Cargas a despachar: \", solver.Objective().Value())"
      ],
      "metadata": {
        "colab": {
          "base_uri": "https://localhost:8080/",
          "height": 211
        },
        "id": "o0EqfA2MI9j9",
        "outputId": "7ac249ce-6d70-40e1-b5f2-da5309aaefc8"
      },
      "execution_count": 9,
      "outputs": [
        {
          "output_type": "error",
          "ename": "TypeError",
          "evalue": "'LinearConstraint' object is not iterable",
          "traceback": [
            "\u001b[0;31m---------------------------------------------------------------------------\u001b[0m",
            "\u001b[0;31mTypeError\u001b[0m                                 Traceback (most recent call last)",
            "\u001b[0;32m<ipython-input-9-3f075481b522>\u001b[0m in \u001b[0;36m<cell line: 15>\u001b[0;34m()\u001b[0m\n\u001b[1;32m     14\u001b[0m \u001b[0;31m#R1\u001b[0m\u001b[0;34m\u001b[0m\u001b[0;34m\u001b[0m\u001b[0m\n\u001b[1;32m     15\u001b[0m \u001b[0;32mfor\u001b[0m \u001b[0mi\u001b[0m \u001b[0;32min\u001b[0m \u001b[0mitems\u001b[0m\u001b[0;34m:\u001b[0m\u001b[0;34m\u001b[0m\u001b[0;34m\u001b[0m\u001b[0m\n\u001b[0;32m---> 16\u001b[0;31m   \u001b[0msolver\u001b[0m\u001b[0;34m.\u001b[0m\u001b[0mAdd\u001b[0m\u001b[0;34m(\u001b[0m\u001b[0msum\u001b[0m\u001b[0;34m(\u001b[0m\u001b[0mx\u001b[0m\u001b[0;34m[\u001b[0m\u001b[0mi\u001b[0m\u001b[0;34m]\u001b[0m\u001b[0;34m*\u001b[0m\u001b[0mpeso\u001b[0m\u001b[0;34m[\u001b[0m\u001b[0mi\u001b[0m\u001b[0;34m]\u001b[0m \u001b[0;34m<=\u001b[0m \u001b[0mpeso_max\u001b[0m\u001b[0;34m)\u001b[0m\u001b[0;34m)\u001b[0m\u001b[0;34m\u001b[0m\u001b[0;34m\u001b[0m\u001b[0m\n\u001b[0m\u001b[1;32m     17\u001b[0m \u001b[0;34m\u001b[0m\u001b[0m\n\u001b[1;32m     18\u001b[0m \u001b[0;34m\u001b[0m\u001b[0m\n",
            "\u001b[0;31mTypeError\u001b[0m: 'LinearConstraint' object is not iterable"
          ]
        }
      ]
    },
    {
      "cell_type": "code",
      "source": [
        "solver.Clear()"
      ],
      "metadata": {
        "id": "r9OZtY0ON9qz",
        "colab": {
          "base_uri": "https://localhost:8080/",
          "height": 141
        },
        "outputId": "af4fb808-2dd6-4086-9085-a0b86731459b"
      },
      "execution_count": 3,
      "outputs": [
        {
          "output_type": "error",
          "ename": "NameError",
          "evalue": "name 'solver' is not defined",
          "traceback": [
            "\u001b[0;31m---------------------------------------------------------------------------\u001b[0m",
            "\u001b[0;31mNameError\u001b[0m                                 Traceback (most recent call last)",
            "\u001b[0;32m<ipython-input-3-7ce962bdbc81>\u001b[0m in \u001b[0;36m<cell line: 1>\u001b[0;34m()\u001b[0m\n\u001b[0;32m----> 1\u001b[0;31m \u001b[0msolver\u001b[0m\u001b[0;34m.\u001b[0m\u001b[0mClear\u001b[0m\u001b[0;34m(\u001b[0m\u001b[0;34m)\u001b[0m\u001b[0;34m\u001b[0m\u001b[0;34m\u001b[0m\u001b[0m\n\u001b[0m",
            "\u001b[0;31mNameError\u001b[0m: name 'solver' is not defined"
          ]
        }
      ]
    },
    {
      "cell_type": "code",
      "source": [
        "from ortools.linear_solver import pywraplp\n",
        "\n",
        "\n",
        "!pip install ortools\n",
        "\n",
        "solucionador = 'SCIP'  #@param [\"GLOP\", \"PDLP\", \"SCIP\"]\n",
        "solver = pywraplp.Solver.CreateSolver(solucionador)\n",
        "\n",
        "peso_max = 4500\n",
        "penalizacion = [120, 250, 250, 620, 180, 90]\n",
        "peso = [1200, 1250, 1800, 2500, 1400, 900]\n",
        "\n",
        "items = [0, 1, 2, 3, 4, 5]\n",
        "\n",
        "x = {}\n",
        "for i in items:\n",
        "    x[i] = solver.IntVar(0, 1, \"\")\n",
        "\n",
        "# R1: La suma de los pesos de los items seleccionados debe ser menor o igual al peso máximo\n",
        "solver.Add(sum([x[i] * peso[i] for i in items]) <= peso_max)\n",
        "\n",
        "# Minimizar la penalización total\n",
        "solver.Minimize(sum([(1 - x[i]) * penalizacion[i] for i in items]))\n",
        "\n",
        "# Invocar la solución:\n",
        "status = solver.Solve()\n",
        "\n",
        "if status == pywraplp.Solver.OPTIMAL:\n",
        "    print(\"Solución óptima encontrada:\")\n",
        "    for i in items:\n",
        "        if x[i].solution_value() == 1:\n",
        "            print(\"La carga\", i, \"se despacha.\")\n",
        "    print(\"Penalización total:\", solver.Objective().Value())\n",
        "else:\n",
        "    print(\"No se encontró una solución óptima.\")\n",
        "\n",
        "solver.Clear()\n"
      ],
      "metadata": {
        "id": "HH7sZHjyPjYO",
        "outputId": "9de79f3d-9056-4b02-913e-e954c5b38bae",
        "colab": {
          "base_uri": "https://localhost:8080/"
        }
      },
      "execution_count": 11,
      "outputs": [
        {
          "output_type": "stream",
          "name": "stdout",
          "text": [
            "Requirement already satisfied: ortools in /usr/local/lib/python3.10/dist-packages (9.11.4210)\n",
            "Requirement already satisfied: absl-py>=2.0.0 in /usr/local/lib/python3.10/dist-packages (from ortools) (2.1.0)\n",
            "Requirement already satisfied: numpy>=1.13.3 in /usr/local/lib/python3.10/dist-packages (from ortools) (1.26.4)\n",
            "Requirement already satisfied: pandas>=2.0.0 in /usr/local/lib/python3.10/dist-packages (from ortools) (2.1.4)\n",
            "Requirement already satisfied: protobuf<5.27,>=5.26.1 in /usr/local/lib/python3.10/dist-packages (from ortools) (5.26.1)\n",
            "Requirement already satisfied: immutabledict>=3.0.0 in /usr/local/lib/python3.10/dist-packages (from ortools) (4.2.0)\n",
            "Requirement already satisfied: python-dateutil>=2.8.2 in /usr/local/lib/python3.10/dist-packages (from pandas>=2.0.0->ortools) (2.8.2)\n",
            "Requirement already satisfied: pytz>=2020.1 in /usr/local/lib/python3.10/dist-packages (from pandas>=2.0.0->ortools) (2024.2)\n",
            "Requirement already satisfied: tzdata>=2022.1 in /usr/local/lib/python3.10/dist-packages (from pandas>=2.0.0->ortools) (2024.1)\n",
            "Requirement already satisfied: six>=1.5 in /usr/local/lib/python3.10/dist-packages (from python-dateutil>=2.8.2->pandas>=2.0.0->ortools) (1.16.0)\n",
            "Solución óptima encontrada:\n",
            "La carga 1 se despacha.\n",
            "La carga 3 se despacha.\n",
            "Penalización total: 640.0\n"
          ]
        }
      ]
    }
  ]
}