{
  "nbformat": 4,
  "nbformat_minor": 0,
  "metadata": {
    "colab": {
      "provenance": [],
      "include_colab_link": true
    },
    "kernelspec": {
      "name": "python3",
      "display_name": "Python 3"
    },
    "language_info": {
      "name": "python"
    }
  },
  "cells": [
    {
      "cell_type": "markdown",
      "metadata": {
        "id": "view-in-github",
        "colab_type": "text"
      },
      "source": [
        "<a href=\"https://colab.research.google.com/github/AlejoBI/IO/blob/main/Parcial2.ipynb\" target=\"_parent\"><img src=\"https://colab.research.google.com/assets/colab-badge.svg\" alt=\"Open In Colab\"/></a>"
      ]
    },
    {
      "cell_type": "code",
      "execution_count": 1,
      "metadata": {
        "id": "x5xK_uN_GymM",
        "colab": {
          "base_uri": "https://localhost:8080/"
        },
        "outputId": "f7568940-c343-4966-e725-4f75cd859b0e"
      },
      "outputs": [
        {
          "output_type": "stream",
          "name": "stdout",
          "text": [
            "Collecting ortools\n",
            "  Downloading ortools-9.11.4210-cp310-cp310-manylinux_2_17_x86_64.manylinux2014_x86_64.whl.metadata (3.0 kB)\n",
            "Collecting absl-py>=2.0.0 (from ortools)\n",
            "  Downloading absl_py-2.1.0-py3-none-any.whl.metadata (2.3 kB)\n",
            "Requirement already satisfied: numpy>=1.13.3 in /usr/local/lib/python3.10/dist-packages (from ortools) (1.26.4)\n",
            "Requirement already satisfied: pandas>=2.0.0 in /usr/local/lib/python3.10/dist-packages (from ortools) (2.2.2)\n",
            "Collecting protobuf<5.27,>=5.26.1 (from ortools)\n",
            "  Downloading protobuf-5.26.1-cp37-abi3-manylinux2014_x86_64.whl.metadata (592 bytes)\n",
            "Requirement already satisfied: immutabledict>=3.0.0 in /usr/local/lib/python3.10/dist-packages (from ortools) (4.2.0)\n",
            "Requirement already satisfied: python-dateutil>=2.8.2 in /usr/local/lib/python3.10/dist-packages (from pandas>=2.0.0->ortools) (2.8.2)\n",
            "Requirement already satisfied: pytz>=2020.1 in /usr/local/lib/python3.10/dist-packages (from pandas>=2.0.0->ortools) (2024.2)\n",
            "Requirement already satisfied: tzdata>=2022.7 in /usr/local/lib/python3.10/dist-packages (from pandas>=2.0.0->ortools) (2024.2)\n",
            "Requirement already satisfied: six>=1.5 in /usr/local/lib/python3.10/dist-packages (from python-dateutil>=2.8.2->pandas>=2.0.0->ortools) (1.16.0)\n",
            "Downloading ortools-9.11.4210-cp310-cp310-manylinux_2_17_x86_64.manylinux2014_x86_64.whl (28.1 MB)\n",
            "\u001b[2K   \u001b[90m━━━━━━━━━━━━━━━━━━━━━━━━━━━━━━━━━━━━━━━━\u001b[0m \u001b[32m28.1/28.1 MB\u001b[0m \u001b[31m18.5 MB/s\u001b[0m eta \u001b[36m0:00:00\u001b[0m\n",
            "\u001b[?25hDownloading absl_py-2.1.0-py3-none-any.whl (133 kB)\n",
            "\u001b[2K   \u001b[90m━━━━━━━━━━━━━━━━━━━━━━━━━━━━━━━━━━━━━━━━\u001b[0m \u001b[32m133.7/133.7 kB\u001b[0m \u001b[31m4.6 MB/s\u001b[0m eta \u001b[36m0:00:00\u001b[0m\n",
            "\u001b[?25hDownloading protobuf-5.26.1-cp37-abi3-manylinux2014_x86_64.whl (302 kB)\n",
            "\u001b[2K   \u001b[90m━━━━━━━━━━━━━━━━━━━━━━━━━━━━━━━━━━━━━━━━\u001b[0m \u001b[32m302.8/302.8 kB\u001b[0m \u001b[31m7.7 MB/s\u001b[0m eta \u001b[36m0:00:00\u001b[0m\n",
            "\u001b[?25hInstalling collected packages: protobuf, absl-py, ortools\n",
            "  Attempting uninstall: protobuf\n",
            "    Found existing installation: protobuf 3.20.3\n",
            "    Uninstalling protobuf-3.20.3:\n",
            "      Successfully uninstalled protobuf-3.20.3\n",
            "  Attempting uninstall: absl-py\n",
            "    Found existing installation: absl-py 1.4.0\n",
            "    Uninstalling absl-py-1.4.0:\n",
            "      Successfully uninstalled absl-py-1.4.0\n",
            "\u001b[31mERROR: pip's dependency resolver does not currently take into account all the packages that are installed. This behaviour is the source of the following dependency conflicts.\n",
            "google-ai-generativelanguage 0.6.6 requires protobuf!=3.20.0,!=3.20.1,!=4.21.0,!=4.21.1,!=4.21.2,!=4.21.3,!=4.21.4,!=4.21.5,<5.0.0dev,>=3.19.5, but you have protobuf 5.26.1 which is incompatible.\n",
            "google-cloud-datastore 2.19.0 requires protobuf!=3.20.0,!=3.20.1,!=4.21.0,!=4.21.1,!=4.21.2,!=4.21.3,!=4.21.4,!=4.21.5,<5.0.0dev,>=3.19.5, but you have protobuf 5.26.1 which is incompatible.\n",
            "google-cloud-firestore 2.16.1 requires protobuf!=3.20.0,!=3.20.1,!=4.21.0,!=4.21.1,!=4.21.2,!=4.21.3,!=4.21.4,!=4.21.5,<5.0.0dev,>=3.19.5, but you have protobuf 5.26.1 which is incompatible.\n",
            "tensorboard 2.17.0 requires protobuf!=4.24.0,<5.0.0,>=3.19.6, but you have protobuf 5.26.1 which is incompatible.\n",
            "tensorflow 2.17.0 requires protobuf!=4.21.0,!=4.21.1,!=4.21.2,!=4.21.3,!=4.21.4,!=4.21.5,<5.0.0dev,>=3.20.3, but you have protobuf 5.26.1 which is incompatible.\n",
            "tensorflow-metadata 1.15.0 requires protobuf<4.21,>=3.20.3; python_version < \"3.11\", but you have protobuf 5.26.1 which is incompatible.\u001b[0m\u001b[31m\n",
            "\u001b[0mSuccessfully installed absl-py-2.1.0 ortools-9.11.4210 protobuf-5.26.1\n"
          ]
        }
      ],
      "source": [
        "#Instalamos la librería / software de optimización de Google\n",
        "!pip install ortools"
      ]
    },
    {
      "cell_type": "code",
      "source": [
        "#@title ⚙️ Ejecutar esta celda para elegir el solucionador de PLEyM\n",
        "\n",
        "#Importar el módulo de PL de G-OR\n",
        "from ortools.linear_solver import pywraplp\n",
        "\n",
        "#Elegir el solucionador\n",
        "solucionador =  'SCIP' #@param [\"GLOP\", \"PDLP\", \"SCIP\"]\n",
        "solver = pywraplp.Solver.CreateSolver(solucionador)"
      ],
      "metadata": {
        "id": "webFe3deG9z_",
        "cellView": "form"
      },
      "execution_count": 2,
      "outputs": []
    },
    {
      "cell_type": "code",
      "source": [
        "I = [1, 2, 3, 4]\n",
        "J = [1, 2, 3, 4]\n",
        "N = [1, 2, 3, 4]\n",
        "\n",
        "# Definir variables de decisión\n",
        "x = {}\n",
        "for i in I:\n",
        "  for j in J:\n",
        "    for n in N:\n",
        "      x[i, j, n] = solver.BoolVar(f\"x[{i},{j},{n}]\")\n",
        "\n",
        "# Restricciones\n",
        "\n",
        "# R1\n",
        "for j in J:\n",
        "  for i in I:\n",
        "    solver.Add(sum(x[i, j, n] for n in N) == 1)\n",
        "\n",
        "# R2\n",
        "for i in I:\n",
        "  for n in N:\n",
        "    solver.Add(sum(x[i, j, n] for j in J) == 1)\n",
        "\n",
        "# R3\n",
        "for n in N:\n",
        "  for j in J:\n",
        "    solver.Add(sum(x[i, j, n] for i in I) == 1)\n",
        "\n",
        "# R4\n",
        "for i in [1, 2]:\n",
        "  for j in [1, 2]:\n",
        "    solver.Add(sum(x[i, j, n] for n in N) == 1)\n",
        "\n",
        "# R5\n",
        "for i in [1, 2]:\n",
        "  for j in [3, 4]:\n",
        "    solver.Add(sum(x[i, j, n] for n in N) == 1)\n",
        "\n",
        "# R6\n",
        "for i in [3, 4]:\n",
        "  for j in [1, 2]:\n",
        "    solver.Add(sum(x[i, j, n] for n in N) == 1)\n",
        "\n",
        "\n",
        "# R7\n",
        "for i in [3, 4]:\n",
        "  for j in [3, 4]:\n",
        "    solver.Add(sum(x[i, j, n] for n in N) == 1)\n",
        "\n",
        "\n",
        "# R8\n",
        "solver.Add(x[3, 1, 2] == 1)\n",
        "# R9\n",
        "solver.Add(x[1, 2, 3] == 1)\n",
        "# R10\n",
        "solver.Add(x[4, 3, 4] == 1)\n",
        "# R11\n",
        "solver.Add(x[2, 4, 1] == 1)\n",
        "\n",
        "\n",
        "# Resolver el problema\n",
        "status = solver.Solve()\n",
        "\n",
        "if status == pywraplp.Solver.OPTIMAL:\n",
        "  for i in I:\n",
        "    for j in J:\n",
        "      for n in N:\n",
        "        if x[i, j, n].solution_value() == 1:\n",
        "          print(f\"Celda ({i}, {j}): {n}\")\n",
        "else:\n",
        "  print(\"No se encontró una solución.\")"
      ],
      "metadata": {
        "colab": {
          "base_uri": "https://localhost:8080/"
        },
        "id": "o0EqfA2MI9j9",
        "outputId": "63b16685-f5a6-4aae-a9c7-c98866b19b5e"
      },
      "execution_count": 6,
      "outputs": [
        {
          "output_type": "stream",
          "name": "stdout",
          "text": [
            "Celda (1, 1): 4\n",
            "Celda (1, 2): 3\n",
            "Celda (1, 3): 1\n",
            "Celda (1, 4): 2\n",
            "Celda (2, 1): 3\n",
            "Celda (2, 2): 4\n",
            "Celda (2, 3): 2\n",
            "Celda (2, 4): 1\n",
            "Celda (3, 1): 2\n",
            "Celda (3, 2): 1\n",
            "Celda (3, 3): 3\n",
            "Celda (3, 4): 4\n",
            "Celda (4, 1): 1\n",
            "Celda (4, 2): 2\n",
            "Celda (4, 3): 4\n",
            "Celda (4, 4): 3\n"
          ]
        }
      ]
    }
  ]
}