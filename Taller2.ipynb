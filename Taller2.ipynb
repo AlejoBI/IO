{
  "nbformat": 4,
  "nbformat_minor": 0,
  "metadata": {
    "colab": {
      "provenance": [],
      "include_colab_link": true
    },
    "kernelspec": {
      "name": "python3",
      "display_name": "Python 3"
    },
    "language_info": {
      "name": "python"
    }
  },
  "cells": [
    {
      "cell_type": "markdown",
      "metadata": {
        "id": "view-in-github",
        "colab_type": "text"
      },
      "source": [
        "<a href=\"https://colab.research.google.com/github/AlejoBI/IO/blob/main/Taller2.ipynb\" target=\"_parent\"><img src=\"https://colab.research.google.com/assets/colab-badge.svg\" alt=\"Open In Colab\"/></a>"
      ]
    },
    {
      "cell_type": "code",
      "execution_count": null,
      "metadata": {
        "colab": {
          "base_uri": "https://localhost:8080/"
        },
        "id": "brTcUNev23EC",
        "outputId": "ddea295a-9ddb-4748-d2bd-04db37e1501b"
      },
      "outputs": [
        {
          "output_type": "stream",
          "name": "stdout",
          "text": [
            "Requirement already satisfied: ortools in /usr/local/lib/python3.10/dist-packages (9.11.4210)\n",
            "Requirement already satisfied: absl-py>=2.0.0 in /usr/local/lib/python3.10/dist-packages (from ortools) (2.1.0)\n",
            "Requirement already satisfied: numpy>=1.13.3 in /usr/local/lib/python3.10/dist-packages (from ortools) (1.26.4)\n",
            "Requirement already satisfied: pandas>=2.0.0 in /usr/local/lib/python3.10/dist-packages (from ortools) (2.2.2)\n",
            "Requirement already satisfied: protobuf<5.27,>=5.26.1 in /usr/local/lib/python3.10/dist-packages (from ortools) (5.26.1)\n",
            "Requirement already satisfied: immutabledict>=3.0.0 in /usr/local/lib/python3.10/dist-packages (from ortools) (4.2.0)\n",
            "Requirement already satisfied: python-dateutil>=2.8.2 in /usr/local/lib/python3.10/dist-packages (from pandas>=2.0.0->ortools) (2.8.2)\n",
            "Requirement already satisfied: pytz>=2020.1 in /usr/local/lib/python3.10/dist-packages (from pandas>=2.0.0->ortools) (2024.2)\n",
            "Requirement already satisfied: tzdata>=2022.7 in /usr/local/lib/python3.10/dist-packages (from pandas>=2.0.0->ortools) (2024.2)\n",
            "Requirement already satisfied: six>=1.5 in /usr/local/lib/python3.10/dist-packages (from python-dateutil>=2.8.2->pandas>=2.0.0->ortools) (1.16.0)\n"
          ]
        }
      ],
      "source": [
        "!pip install ortools"
      ]
    },
    {
      "cell_type": "code",
      "source": [
        "from ortools.linear_solver import pywraplp\n",
        "\n",
        "# Crear el solucionador\n",
        "solucionador = 'SCIP'\n",
        "solver = pywraplp.Solver.CreateSolver(solucionador)"
      ],
      "metadata": {
        "id": "XRBgnQHs236Z"
      },
      "execution_count": null,
      "outputs": []
    },
    {
      "cell_type": "code",
      "source": [
        "# Parámetros\n",
        "dias = ['lunes', 'martes', 'miércoles', 'jueves', 'viernes', 'sábado', 'domingo']  # Días de la semana\n",
        "turnos = ['mañana', 'tarde', 'noche']  # Turnos\n",
        "bodegas = ['Bodega 1', 'Bodega 2']  # Nombres de bodegas\n",
        "operarios_b1 = ['Cristian', 'Yuliana', 'Jose Daniel', 'Kevin']  # Operarios en Bodega 1\n",
        "operarios_b2 = ['Daniela', 'Alison', 'Sebastián', 'Alex']  # Operarios en Bodega 2\n",
        "\n",
        "# Definir variables de decisión\n",
        "X = {}\n",
        "for o in range(4):  # Para cada operario\n",
        "    for b in range(len(bodegas)):  # Para cada bodega (índice)\n",
        "        for d in range(len(dias)):  # Para cada día (índice)\n",
        "            for t in range(len(turnos)):  # Para cada turno (índice)\n",
        "                X[o, b, d, t] = solver.IntVar(0, 1, f'X_{o}{b}{d}_{t}')\n",
        "\n",
        "# Restricciones\n",
        "\n",
        "# R1: Cada operario solo puede trabajar un turno por día en su respectiva bodega\n",
        "for o in range(4):\n",
        "    for b in range(len(bodegas)):\n",
        "        for d in range(len(dias)):\n",
        "            solver.Add(sum(X[o, b, d, t] for t in range(len(turnos))) <= 1)\n",
        "\n",
        "# R2: Solo un operario por turno en cada bodega y día\n",
        "for b in range(len(bodegas)):  # Para cada bodega\n",
        "    for d in range(len(dias)):  # Para cada día\n",
        "        for t in range(len(turnos)):  # Para cada turno\n",
        "            solver.Add(sum(X[o, b, d, t] for o in range(4)) <= 1)\n",
        "\n",
        "# R3: Actividades de inventario solo en la mañana y tarde el último día (domingo)\n",
        "for b in range(len(bodegas)):\n",
        "    for o in range(4):\n",
        "        solver.Add(X[o, b, 6, 2] == 0)  # Sin turno nocturno el domingo\n",
        "\n",
        "# R4 y R5: Los operarios aprendices no pueden trabajar ni el segundo ni el cuarto día en los turnos de noche\n",
        "solver.Add(sum(X[0, 0, d, 2] for d in [1, 3]) == 0)  # Cristian en Bodega 1\n",
        "solver.Add(sum(X[1, 1, d, 2] for d in [1, 3]) == 0)  # Daniela en Bodega 2\n",
        "\n",
        "# R6: Mínimo 20 turnos a la semana en total por bodega\n",
        "for b in range(len(bodegas)):\n",
        "    solver.Add(sum(X[o, b, d, t] for o in range(4) for d in range(len(dias)) for t in range(len(turnos))) >= 20)\n",
        "\n",
        "# R7: Ningún operario trabaja más de 2 turnos nocturnos en la semana\n",
        "for o in range(4):\n",
        "    for b in range(len(bodegas)):\n",
        "        solver.Add(sum(X[o, b, d, 2] for d in range(len(dias))) <= 2)  # Turno nocturno es el índice 2\n",
        "\n",
        "# R8: Todos los operarios trabajan 5 turnos por semana en su respectiva bodega (uniforme)\n",
        "for o in range(4):\n",
        "    for b in range(len(bodegas)):\n",
        "        solver.Add(sum(X[o, b, d, t] for d in range(len(dias)) for t in range(len(turnos))) == 5)\n",
        "\n",
        "# R9: Turno diurno solo si no hay nocturno el día anterior\n",
        "for o in range(4):\n",
        "    for b in range(len(bodegas)):\n",
        "        for d in range(1, len(dias)):  # Comenzar desde Martes (índice 1)\n",
        "            solver.Add(X[o, b, d, 0] <= 1 - X[o, b, d-1, 2])  # Turno diurno solo si no hay nocturno el día anterior\n",
        "\n",
        "# R10, R11 y R12: Solicitudes específicas de los operarios\n",
        "solver.Add(X[1, 0, 1, 1] == 0)  # Yuliana no trabaja el turno de tarde los martes\n",
        "solver.Add(X[2, 1, 4, 2] == 1)  # Sebastián trabaja el turno de noche los viernes\n",
        "solver.Add(X[1, 1, 0, 0] == 0)  # Alison no trabaja el turno de mañana los lunes\n",
        "\n",
        "\n",
        "# Invocar solución (no necesitamos función objetivo, solo verificar factibilidad)\n",
        "status = solver.Solve()\n",
        "\n",
        "# Revisar el estado de la solución\n",
        "if status == pywraplp.Solver.OPTIMAL:\n",
        "    print('Los turnos de cada operario según las políticas y necesidades de la empresa para la semana son: ')\n",
        "    for o in range(4):\n",
        "        for b in range(len(bodegas)):\n",
        "            for d in range(len(dias)):\n",
        "                for t in range(len(turnos)):\n",
        "                    if X[o, b, d, t].solution_value() == 1:\n",
        "                        operario = operarios_b1[o] if b == 0 else operarios_b2[o]\n",
        "                        print(f\"Operario/a {operario} trabaja el día {dias[d]} en la {bodegas[b]} en el turno de la {turnos[t]}\")\n",
        "else:\n",
        "    print('No se encontró una solución factible.')"
      ],
      "metadata": {
        "colab": {
          "base_uri": "https://localhost:8080/"
        },
        "id": "JZQJMr8-57h-",
        "outputId": "1e9f0fd0-ba5d-4216-f8ee-c9cd971cf959"
      },
      "execution_count": null,
      "outputs": [
        {
          "output_type": "stream",
          "name": "stdout",
          "text": [
            "Los turnos de cada operario según las políticas y necesidades de la empresa para la semana son: \n",
            "Operario/a Cristian trabaja el día lunes en la Bodega 1 en el turno de la tarde\n",
            "Operario/a Cristian trabaja el día martes en la Bodega 1 en el turno de la tarde\n",
            "Operario/a Cristian trabaja el día miércoles en la Bodega 1 en el turno de la mañana\n",
            "Operario/a Cristian trabaja el día viernes en la Bodega 1 en el turno de la tarde\n",
            "Operario/a Cristian trabaja el día sábado en la Bodega 1 en el turno de la noche\n",
            "Operario/a Daniela trabaja el día lunes en la Bodega 2 en el turno de la noche\n",
            "Operario/a Daniela trabaja el día miércoles en la Bodega 2 en el turno de la mañana\n",
            "Operario/a Daniela trabaja el día jueves en la Bodega 2 en el turno de la mañana\n",
            "Operario/a Daniela trabaja el día viernes en la Bodega 2 en el turno de la mañana\n",
            "Operario/a Daniela trabaja el día sábado en la Bodega 2 en el turno de la mañana\n",
            "Operario/a Yuliana trabaja el día lunes en la Bodega 1 en el turno de la noche\n",
            "Operario/a Yuliana trabaja el día martes en la Bodega 1 en el turno de la noche\n",
            "Operario/a Yuliana trabaja el día jueves en la Bodega 1 en el turno de la mañana\n",
            "Operario/a Yuliana trabaja el día viernes en la Bodega 1 en el turno de la mañana\n",
            "Operario/a Yuliana trabaja el día domingo en la Bodega 1 en el turno de la mañana\n",
            "Operario/a Alison trabaja el día lunes en la Bodega 2 en el turno de la tarde\n",
            "Operario/a Alison trabaja el día martes en la Bodega 2 en el turno de la mañana\n",
            "Operario/a Alison trabaja el día miércoles en la Bodega 2 en el turno de la noche\n",
            "Operario/a Alison trabaja el día viernes en la Bodega 2 en el turno de la tarde\n",
            "Operario/a Alison trabaja el día domingo en la Bodega 2 en el turno de la mañana\n",
            "Operario/a Jose Daniel trabaja el día lunes en la Bodega 1 en el turno de la mañana\n",
            "Operario/a Jose Daniel trabaja el día miércoles en la Bodega 1 en el turno de la tarde\n",
            "Operario/a Jose Daniel trabaja el día jueves en la Bodega 1 en el turno de la noche\n",
            "Operario/a Jose Daniel trabaja el día sábado en la Bodega 1 en el turno de la mañana\n",
            "Operario/a Jose Daniel trabaja el día domingo en la Bodega 1 en el turno de la tarde\n",
            "Operario/a Sebastián trabaja el día lunes en la Bodega 2 en el turno de la mañana\n",
            "Operario/a Sebastián trabaja el día martes en la Bodega 2 en el turno de la tarde\n",
            "Operario/a Sebastián trabaja el día jueves en la Bodega 2 en el turno de la noche\n",
            "Operario/a Sebastián trabaja el día viernes en la Bodega 2 en el turno de la noche\n",
            "Operario/a Sebastián trabaja el día sábado en la Bodega 2 en el turno de la tarde\n",
            "Operario/a Kevin trabaja el día martes en la Bodega 1 en el turno de la mañana\n",
            "Operario/a Kevin trabaja el día miércoles en la Bodega 1 en el turno de la noche\n",
            "Operario/a Kevin trabaja el día jueves en la Bodega 1 en el turno de la tarde\n",
            "Operario/a Kevin trabaja el día viernes en la Bodega 1 en el turno de la noche\n",
            "Operario/a Kevin trabaja el día sábado en la Bodega 1 en el turno de la tarde\n",
            "Operario/a Alex trabaja el día martes en la Bodega 2 en el turno de la noche\n",
            "Operario/a Alex trabaja el día miércoles en la Bodega 2 en el turno de la tarde\n",
            "Operario/a Alex trabaja el día jueves en la Bodega 2 en el turno de la tarde\n",
            "Operario/a Alex trabaja el día sábado en la Bodega 2 en el turno de la noche\n",
            "Operario/a Alex trabaja el día domingo en la Bodega 2 en el turno de la tarde\n"
          ]
        }
      ]
    }
  ]
}